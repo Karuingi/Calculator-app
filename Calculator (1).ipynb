{
 "cells": [
  {
   "cell_type": "markdown",
   "id": "c0909d59-94c1-4c9b-934d-75d3153cab4c",
   "metadata": {},
   "source": [
    "# Tkinter Notebook "
   ]
  },
  {
   "cell_type": "code",
   "execution_count": 1,
   "id": "fbb774c2-08fa-43b3-ba45-7cc33b3da6e1",
   "metadata": {},
   "outputs": [],
   "source": [
    "from tkinter import *\n",
    "win = Tk() # This is to create a basic window\n",
    "win.geometry('312x324')\n",
    "win.resizable(0, 0) # this is to prevent from resizing the window\n",
    "win.title('Calculator')\n",
    "#Functions\n",
    "# ‘btn_click’ function :\n",
    "# This Function continuously updates the input field whenever you enter a number\n",
    "\n",
    "def btn_click(item):\n",
    " global expression\n",
    " expression = expression + str(item)\n",
    " input_text.set(expression)\n",
    "# ‘bt_clear’ function :This is used to clear the input field\n",
    "def bt_clear():\n",
    " global expression\n",
    " expression = ''\n",
    " input_text.set('')\n",
    "# ‘bt_equal’:This method calculates the expressionpresent in input field\n",
    "def bt_equal():\n",
    " global expression\n",
    " result = str(eval(expression)) # ‘eval’:This function is used to evaluates the string expression directly\n",
    " input_text.set(result)\n",
    " expression = ''\n",
    "expression = ''\n",
    "# ‘StringVar()’ :It is used to get the instance of input field\n",
    "input_text = StringVar()\n",
    "# Creates a frame for the input field\n",
    "input_frame = Frame(win, width=312, height=50, bd=0,\n",
    "highlightbackground='black', highlightcolor='black', highlightthickness=2)\n",
    "input_frame.pack(side=TOP)\n",
    "#Let us create a input field inside the ‘Frame’\n",
    "input_field = Entry(input_frame, font=(\"arial\", 18, \"bold\"),\n",
    "textvariable=input_text, width=50, bg='#eee', bd=0,justify=RIGHT)\n",
    "input_field.grid(row=0, column=0)\n",
    "input_field.pack(ipady=10) # ‘ipady’ is internal padding to increase the height of input field\n",
    "#Let us creating another ‘Frame’ for the button below the‘input_frame’\n",
    "btns_frame = Frame(win, width=312, height=272.5,bg='grey')\n",
    "btns_frame.pack()"
   ]
  },
  {
   "cell_type": "code",
   "execution_count": 6,
   "id": "1932786c-23dd-4588-9918-47c47a00c7f7",
   "metadata": {},
   "outputs": [
    {
     "ename": "TclError",
     "evalue": "can't invoke \"button\" command: application has been destroyed",
     "output_type": "error",
     "traceback": [
      "\u001b[1;31m---------------------------------------------------------------------------\u001b[0m",
      "\u001b[1;31mTclError\u001b[0m                                  Traceback (most recent call last)",
      "Cell \u001b[1;32mIn[6], line 2\u001b[0m\n\u001b[0;32m      1\u001b[0m \u001b[38;5;66;03m# first row\u001b[39;00m\n\u001b[1;32m----> 2\u001b[0m clear \u001b[38;5;241m=\u001b[39m Button(btns_frame, text \u001b[38;5;241m=\u001b[39m \u001b[38;5;124m'\u001b[39m\u001b[38;5;124mC\u001b[39m\u001b[38;5;124m'\u001b[39m, fg \u001b[38;5;241m=\u001b[39m \u001b[38;5;124m'\u001b[39m\u001b[38;5;124mblack\u001b[39m\u001b[38;5;124m'\u001b[39m, width \u001b[38;5;241m=\u001b[39m \u001b[38;5;241m32\u001b[39m, height \u001b[38;5;241m=\u001b[39m \u001b[38;5;241m3\u001b[39m, bd \u001b[38;5;241m=\u001b[39m \u001b[38;5;241m0\u001b[39m, bg \u001b[38;5;241m=\u001b[39m \u001b[38;5;124m'\u001b[39m\u001b[38;5;124m#eee\u001b[39m\u001b[38;5;124m'\u001b[39m, cursor \u001b[38;5;241m=\u001b[39m \u001b[38;5;124m'\u001b[39m\u001b[38;5;124mhand2\u001b[39m\u001b[38;5;124m'\u001b[39m, command \u001b[38;5;241m=\u001b[39m \u001b[38;5;28;01mlambda\u001b[39;00m: \u001b[38;5;66;03m#A lambda function is an anonymous function (i.e., defined without a name) that can take any number of arguments but, unlike normal functions, evaluates and returns only one expression\u001b[39;00m\n\u001b[0;32m      3\u001b[0m bt_clear())\u001b[38;5;241m.\u001b[39mgrid(row \u001b[38;5;241m=\u001b[39m \u001b[38;5;241m0\u001b[39m, column \u001b[38;5;241m=\u001b[39m \u001b[38;5;241m0\u001b[39m, columnspan \u001b[38;5;241m=\u001b[39m \u001b[38;5;241m3\u001b[39m, padx \u001b[38;5;241m=\u001b[39m \u001b[38;5;241m1\u001b[39m, pady \u001b[38;5;241m=\u001b[39m \u001b[38;5;241m1\u001b[39m)\n\u001b[0;32m      4\u001b[0m divide \u001b[38;5;241m=\u001b[39m Button(btns_frame, text \u001b[38;5;241m=\u001b[39m \u001b[38;5;124m'\u001b[39m\u001b[38;5;124m/\u001b[39m\u001b[38;5;124m'\u001b[39m, fg \u001b[38;5;241m=\u001b[39m \u001b[38;5;124m'\u001b[39m\u001b[38;5;124mblack\u001b[39m\u001b[38;5;124m'\u001b[39m, width \u001b[38;5;241m=\u001b[39m \u001b[38;5;241m10\u001b[39m, height \u001b[38;5;241m=\u001b[39m \u001b[38;5;241m3\u001b[39m, bd \u001b[38;5;241m=\u001b[39m \u001b[38;5;241m0\u001b[39m, bg \u001b[38;5;241m=\u001b[39m \u001b[38;5;124m'\u001b[39m\u001b[38;5;124m#eee\u001b[39m\u001b[38;5;124m'\u001b[39m, cursor \u001b[38;5;241m=\u001b[39m \u001b[38;5;124m'\u001b[39m\u001b[38;5;124mhand2\u001b[39m\u001b[38;5;124m'\u001b[39m, command \u001b[38;5;241m=\u001b[39m \u001b[38;5;28;01mlambda\u001b[39;00m: \n\u001b[0;32m      5\u001b[0m btn_click(\u001b[38;5;124m'\u001b[39m\u001b[38;5;124m/\u001b[39m\u001b[38;5;124m'\u001b[39m))\u001b[38;5;241m.\u001b[39mgrid(row \u001b[38;5;241m=\u001b[39m \u001b[38;5;241m0\u001b[39m, column \u001b[38;5;241m=\u001b[39m \u001b[38;5;241m3\u001b[39m, padx \u001b[38;5;241m=\u001b[39m \u001b[38;5;241m1\u001b[39m, pady \u001b[38;5;241m=\u001b[39m \u001b[38;5;241m1\u001b[39m)\n\u001b[0;32m      6\u001b[0m \u001b[38;5;66;03m# second row\u001b[39;00m\n",
      "File \u001b[1;32m~\\anaconda3\\Lib\\tkinter\\__init__.py:2706\u001b[0m, in \u001b[0;36mButton.__init__\u001b[1;34m(self, master, cnf, **kw)\u001b[0m\n\u001b[0;32m   2687\u001b[0m \u001b[38;5;28;01mdef\u001b[39;00m \u001b[38;5;21m__init__\u001b[39m(\u001b[38;5;28mself\u001b[39m, master\u001b[38;5;241m=\u001b[39m\u001b[38;5;28;01mNone\u001b[39;00m, cnf\u001b[38;5;241m=\u001b[39m{}, \u001b[38;5;241m*\u001b[39m\u001b[38;5;241m*\u001b[39mkw):\n\u001b[0;32m   2688\u001b[0m \u001b[38;5;250m    \u001b[39m\u001b[38;5;124;03m\"\"\"Construct a button widget with the parent MASTER.\u001b[39;00m\n\u001b[0;32m   2689\u001b[0m \n\u001b[0;32m   2690\u001b[0m \u001b[38;5;124;03m    STANDARD OPTIONS\u001b[39;00m\n\u001b[1;32m   (...)\u001b[0m\n\u001b[0;32m   2704\u001b[0m \u001b[38;5;124;03m        overrelief, state, width\u001b[39;00m\n\u001b[0;32m   2705\u001b[0m \u001b[38;5;124;03m    \"\"\"\u001b[39;00m\n\u001b[1;32m-> 2706\u001b[0m     Widget\u001b[38;5;241m.\u001b[39m\u001b[38;5;21m__init__\u001b[39m(\u001b[38;5;28mself\u001b[39m, master, \u001b[38;5;124m'\u001b[39m\u001b[38;5;124mbutton\u001b[39m\u001b[38;5;124m'\u001b[39m, cnf, kw)\n",
      "File \u001b[1;32m~\\anaconda3\\Lib\\tkinter\\__init__.py:2628\u001b[0m, in \u001b[0;36mBaseWidget.__init__\u001b[1;34m(self, master, widgetName, cnf, kw, extra)\u001b[0m\n\u001b[0;32m   2626\u001b[0m \u001b[38;5;28;01mfor\u001b[39;00m k, v \u001b[38;5;129;01min\u001b[39;00m classes:\n\u001b[0;32m   2627\u001b[0m     \u001b[38;5;28;01mdel\u001b[39;00m cnf[k]\n\u001b[1;32m-> 2628\u001b[0m \u001b[38;5;28mself\u001b[39m\u001b[38;5;241m.\u001b[39mtk\u001b[38;5;241m.\u001b[39mcall(\n\u001b[0;32m   2629\u001b[0m     (widgetName, \u001b[38;5;28mself\u001b[39m\u001b[38;5;241m.\u001b[39m_w) \u001b[38;5;241m+\u001b[39m extra \u001b[38;5;241m+\u001b[39m \u001b[38;5;28mself\u001b[39m\u001b[38;5;241m.\u001b[39m_options(cnf))\n\u001b[0;32m   2630\u001b[0m \u001b[38;5;28;01mfor\u001b[39;00m k, v \u001b[38;5;129;01min\u001b[39;00m classes:\n\u001b[0;32m   2631\u001b[0m     k\u001b[38;5;241m.\u001b[39mconfigure(\u001b[38;5;28mself\u001b[39m, v)\n",
      "\u001b[1;31mTclError\u001b[0m: can't invoke \"button\" command: application has been destroyed"
     ]
    }
   ],
   "source": [
    "# first row\n",
    "clear = Button(btns_frame, text = 'C', fg = 'black', width = 32, height = 3, bd = 0, bg = '#eee', cursor = 'hand2', command = lambda: #A lambda function is an anonymous function (i.e., defined without a name) that can take any number of arguments but, unlike normal functions, evaluates and returns only one expression\n",
    "bt_clear()).grid(row = 0, column = 0, columnspan = 3, padx = 1, pady = 1)\n",
    "divide = Button(btns_frame, text = '/', fg = 'black', width = 10, height = 3, bd = 0, bg = '#eee', cursor = 'hand2', command = lambda: \n",
    "btn_click('/')).grid(row = 0, column = 3, padx = 1, pady = 1)\n",
    "# second row\n",
    "seven = Button(btns_frame, text = '7', fg = 'black', width = 10, height = 3, bd = 0, bg = '#fff', cursor = 'hand2', command = lambda:\n",
    "btn_click(7)).grid(row = 1, column = 0, padx = 1, pady = 1)\n",
    "eight = Button(btns_frame, text = '8', fg = 'black', width =10, height = 3, bd = 0, bg = '#fff', cursor = 'hand2', command = lambda:\n",
    "btn_click(8)).grid(row = 1, column = 1, padx = 1, pady = 1)\n",
    "nine = Button(btns_frame, text = '9', fg = 'black', width = 10, height = 3, bd = 0, bg = '#fff', cursor = 'hand2', command = lambda: \n",
    "btn_click(9)).grid(row = 1, column = 2, padx = 1, pady = 1)\n",
    "multiply = Button(btns_frame, text = '*', fg = 'black', width = 10, height = 3, bd = 0, bg = '#eee', cursor = 'hand2', command = lambda: \n",
    "btn_click('*')).grid(row = 1, column = 3, padx = 1, pady = 1)\n",
    "# third row\n",
    "four = Button(btns_frame, text = '4', fg = 'black', width = 10, height = 3, bd = 0, bg = '#fff', cursor = 'hand2', command = lambda: \n",
    "btn_click(4)).grid(row = 2, column = 0, padx = 1, pady = 1)\n",
    "five = Button(btns_frame, text = '5', fg = 'black', width = 10,height = 3, bd = 0, bg = '#fff', cursor = 'hand2', command = lambda: \n",
    "btn_click(5)).grid(row = 2, column = 1, padx = 1, pady = 1)\n",
    "six = Button(btns_frame, text = '6', fg = 'black', width = 10,height = 3, bd = 0, bg = '#fff', cursor = 'hand2', command = lambda:\n",
    "btn_click(6)).grid(row = 2, column = 2, padx = 1, pady = 1)\n",
    "minus = Button(btns_frame, text = '-', fg = 'black', width = 10, height = 3, bd = 0, bg = '#eee', cursor = 'hand2', command = lambda: \n",
    "btn_click('-')).grid(row = 2, column = 3, padx = 1, pady = 1)\n",
    "# fourth row\n",
    "one = Button(btns_frame, text = '1', fg = 'black', width = 10, height = 3, bd = 0, bg = '#fff', cursor = 'hand2', command = lambda:\n",
    "btn_click(1)).grid(row = 3, column = 0, padx = 1, pady = 1)\n",
    "two = Button(btns_frame, text = '2', fg = 'black', width = 10, height = 3, bd = 0, bg = '#fff', cursor = 'hand2', command = lambda:\n",
    "btn_click(2)).grid(row = 3, column = 1, padx = 1, pady = 1)\n",
    "three = Button(btns_frame, text = '3', fg = 'black', width = 10, height = 3, bd = 0, bg = '#fff', cursor = 'hand2',\n",
    "command = lambda: btn_click(3)).grid(row = 3, column = 2, padx = 1, pady = 1)\n",
    "plus = Button(btns_frame, text = '+', fg = 'black', width = 10, height = 3, bd = 0, bg = '#eee', cursor = 'hand2',\n",
    "command = lambda: btn_click('+')).grid(row = 3, column = 3, padx = 1, pady = 1)\n",
    "# fourth row\n",
    "zero = Button(btns_frame, text = '0', fg = 'black', width = 21, height = 3, bd = 0, bg = '#fff', cursor = 'hand2', command = lambda: \n",
    "btn_click(0)).grid(row = 4, column = 0, columnspan = 2, padx = 1, pady = 1)\n",
    "point = Button(btns_frame, text = '.', fg = 'black', width = 10, height = 3, bd = 0, bg = '#eee', cursor = 'hand2', command = lambda:\n",
    "btn_click('.')).grid(row = 4, column = 2, padx = 1, pady = 1)\n",
    "equals = Button(btns_frame, text = '=', fg = 'black', width = 10, height = 3, bd = 0, bg = '#eee', cursor = 'hand2', command = lambda:\n",
    "bt_equal()).grid(row = 4, column = 3, padx = 1, pady = 1)\n",
    "win.mainloop()"
   ]
  },
  {
   "cell_type": "code",
   "execution_count": null,
   "id": "725bc879-47e4-4e3b-8bfc-474ff69720d0",
   "metadata": {},
   "outputs": [],
   "source": []
  }
 ],
 "metadata": {
  "kernelspec": {
   "display_name": "Python 3 (ipykernel)",
   "language": "python",
   "name": "python3"
  },
  "language_info": {
   "codemirror_mode": {
    "name": "ipython",
    "version": 3
   },
   "file_extension": ".py",
   "mimetype": "text/x-python",
   "name": "python",
   "nbconvert_exporter": "python",
   "pygments_lexer": "ipython3",
   "version": "3.11.7"
  }
 },
 "nbformat": 4,
 "nbformat_minor": 5
}
